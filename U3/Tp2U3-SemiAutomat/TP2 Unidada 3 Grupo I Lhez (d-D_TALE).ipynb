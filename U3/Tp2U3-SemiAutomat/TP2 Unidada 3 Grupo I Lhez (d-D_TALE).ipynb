{
  "cells": [
    {
      "cell_type": "markdown",
      "metadata": {
        "id": "view-in-github",
        "colab_type": "text"
      },
      "source": [
        "<a href=\"https://colab.research.google.com/github/pablolhez72/UTN-Ciencias-Datos/blob/main/U3/Tp2U3-SemiAutomat/TP2%20Unidada%203%20Grupo%20I%20Lhez%20(d-D_TALE).ipynb\" target=\"_parent\"><img src=\"https://colab.research.google.com/assets/colab-badge.svg\" alt=\"Open In Colab\"/></a>"
      ]
    },
    {
      "cell_type": "markdown",
      "id": "1ae9162f",
      "metadata": {
        "id": "1ae9162f"
      },
      "source": [
        "# Herramientas Avanzadas"
      ]
    },
    {
      "cell_type": "markdown",
      "id": "7c504493",
      "metadata": {
        "id": "7c504493"
      },
      "source": [
        "## 4.\tD-Tale"
      ]
    },
    {
      "cell_type": "markdown",
      "source": [
        "Presenta datos en WEB\n",
        "\n",
        "*   Detectar faltantes y outliers\n",
        "*   Presenta datos en WEB, y avanzar en filtros desde navegador\n",
        "*   ejecutar codigo\n",
        "\n",
        "\n",
        "\n",
        "**Ejecutarlo en Cisual Studio Code, Colab no funciona**\n",
        "\n"
      ],
      "metadata": {
        "id": "R2ah7iof88mz"
      },
      "id": "R2ah7iof88mz"
    },
    {
      "cell_type": "markdown",
      "source": [
        "TP2 Unidada 3 Grupo I Lhez (d-D_TALE)"
      ],
      "metadata": {
        "id": "mKjSCp2MvdY6"
      },
      "id": "mKjSCp2MvdY6"
    },
    {
      "cell_type": "code",
      "execution_count": 11,
      "id": "633412a7",
      "metadata": {
        "colab": {
          "base_uri": "https://localhost:8080/"
        },
        "id": "633412a7",
        "outputId": "617a136f-7638-4517-a324-7e79dddfbf19"
      },
      "outputs": [
        {
          "output_type": "stream",
          "name": "stdout",
          "text": [
            "Requirement already satisfied: dtale in /usr/local/lib/python3.11/dist-packages (3.17.0)\n",
            "Requirement already satisfied: seaborn in /usr/local/lib/python3.11/dist-packages (0.13.2)\n",
            "Requirement already satisfied: dash-daq<=0.5.0 in /usr/local/lib/python3.11/dist-packages (from dtale) (0.5.0)\n",
            "Requirement already satisfied: future>=0.14.0 in /usr/local/lib/python3.11/dist-packages (from dtale) (1.0.0)\n",
            "Requirement already satisfied: missingno in /usr/local/lib/python3.11/dist-packages (from dtale) (0.5.2)\n",
            "Requirement already satisfied: pandas in /usr/local/lib/python3.11/dist-packages (from dtale) (2.2.2)\n",
            "Requirement already satisfied: squarify in /usr/local/lib/python3.11/dist-packages (from dtale) (0.4.4)\n",
            "Requirement already satisfied: strsimpy in /usr/local/lib/python3.11/dist-packages (from dtale) (0.2.1)\n",
            "Requirement already satisfied: six in /usr/local/lib/python3.11/dist-packages (from dtale) (1.17.0)\n",
            "Requirement already satisfied: xlrd in /usr/local/lib/python3.11/dist-packages (from dtale) (2.0.1)\n",
            "Requirement already satisfied: beautifulsoup4!=4.13.0b2 in /usr/local/lib/python3.11/dist-packages (from dtale) (4.13.4)\n",
            "Requirement already satisfied: certifi in /usr/local/lib/python3.11/dist-packages (from dtale) (2025.4.26)\n",
            "Requirement already satisfied: dash-bootstrap-components<=1.7.1 in /usr/local/lib/python3.11/dist-packages (from dtale) (1.7.1)\n",
            "Requirement already satisfied: lz4 in /usr/local/lib/python3.11/dist-packages (from dtale) (4.4.4)\n",
            "Requirement already satisfied: cycler in /usr/local/lib/python3.11/dist-packages (from dtale) (0.12.1)\n",
            "Requirement already satisfied: dash<=2.18.2 in /usr/local/lib/python3.11/dist-packages (from dtale) (2.18.2)\n",
            "Requirement already satisfied: werkzeug in /usr/local/lib/python3.11/dist-packages (from dtale) (3.0.6)\n",
            "Requirement already satisfied: Flask-Compress in /usr/local/lib/python3.11/dist-packages (from dtale) (1.17)\n",
            "Requirement already satisfied: scikit-learn in /usr/local/lib/python3.11/dist-packages (from dtale) (1.6.1)\n",
            "Requirement already satisfied: statsmodels in /usr/local/lib/python3.11/dist-packages (from dtale) (0.14.4)\n",
            "Requirement already satisfied: networkx in /usr/local/lib/python3.11/dist-packages (from dtale) (3.5)\n",
            "Requirement already satisfied: numpy in /usr/local/lib/python3.11/dist-packages (from dtale) (2.0.2)\n",
            "Requirement already satisfied: openpyxl!=3.2.0b1 in /usr/local/lib/python3.11/dist-packages (from dtale) (3.1.5)\n",
            "Requirement already satisfied: xarray in /usr/local/lib/python3.11/dist-packages (from dtale) (2025.3.1)\n",
            "Requirement already satisfied: scipy!=1.12.0rc1,!=1.14.0,!=1.14.0rc1,!=1.14.0rc2 in /usr/local/lib/python3.11/dist-packages (from dtale) (1.15.3)\n",
            "Requirement already satisfied: et-xmlfile in /usr/local/lib/python3.11/dist-packages (from dtale) (2.0.0)\n",
            "Requirement already satisfied: plotly in /usr/local/lib/python3.11/dist-packages (from dtale) (5.24.1)\n",
            "Requirement already satisfied: Flask in /usr/local/lib/python3.11/dist-packages (from dtale) (3.0.3)\n",
            "Requirement already satisfied: itsdangerous in /usr/local/lib/python3.11/dist-packages (from dtale) (2.2.0)\n",
            "Requirement already satisfied: requests in /usr/local/lib/python3.11/dist-packages (from dtale) (2.32.3)\n",
            "Requirement already satisfied: kaleido in /usr/local/lib/python3.11/dist-packages (from dtale) (0.2.1)\n",
            "Requirement already satisfied: matplotlib in /usr/local/lib/python3.11/dist-packages (from dtale) (3.10.0)\n",
            "Requirement already satisfied: soupsieve>1.2 in /usr/local/lib/python3.11/dist-packages (from beautifulsoup4!=4.13.0b2->dtale) (2.7)\n",
            "Requirement already satisfied: typing-extensions>=4.0.0 in /usr/local/lib/python3.11/dist-packages (from beautifulsoup4!=4.13.0b2->dtale) (4.14.0)\n",
            "Requirement already satisfied: dash-html-components==2.0.0 in /usr/local/lib/python3.11/dist-packages (from dash<=2.18.2->dtale) (2.0.0)\n",
            "Requirement already satisfied: dash-core-components==2.0.0 in /usr/local/lib/python3.11/dist-packages (from dash<=2.18.2->dtale) (2.0.0)\n",
            "Requirement already satisfied: dash-table==5.0.0 in /usr/local/lib/python3.11/dist-packages (from dash<=2.18.2->dtale) (5.0.0)\n",
            "Requirement already satisfied: importlib-metadata in /usr/local/lib/python3.11/dist-packages (from dash<=2.18.2->dtale) (8.7.0)\n",
            "Requirement already satisfied: retrying in /usr/local/lib/python3.11/dist-packages (from dash<=2.18.2->dtale) (1.3.4)\n",
            "Requirement already satisfied: nest-asyncio in /usr/local/lib/python3.11/dist-packages (from dash<=2.18.2->dtale) (1.6.0)\n",
            "Requirement already satisfied: setuptools in /usr/local/lib/python3.11/dist-packages (from dash<=2.18.2->dtale) (75.2.0)\n",
            "Requirement already satisfied: Jinja2>=3.1.2 in /usr/local/lib/python3.11/dist-packages (from Flask->dtale) (3.1.6)\n",
            "Requirement already satisfied: click>=8.1.3 in /usr/local/lib/python3.11/dist-packages (from Flask->dtale) (8.2.1)\n",
            "Requirement already satisfied: blinker>=1.6.2 in /usr/local/lib/python3.11/dist-packages (from Flask->dtale) (1.9.0)\n",
            "Requirement already satisfied: contourpy>=1.0.1 in /usr/local/lib/python3.11/dist-packages (from matplotlib->dtale) (1.3.2)\n",
            "Requirement already satisfied: fonttools>=4.22.0 in /usr/local/lib/python3.11/dist-packages (from matplotlib->dtale) (4.58.2)\n",
            "Requirement already satisfied: kiwisolver>=1.3.1 in /usr/local/lib/python3.11/dist-packages (from matplotlib->dtale) (1.4.8)\n",
            "Requirement already satisfied: packaging>=20.0 in /usr/local/lib/python3.11/dist-packages (from matplotlib->dtale) (24.2)\n",
            "Requirement already satisfied: pillow>=8 in /usr/local/lib/python3.11/dist-packages (from matplotlib->dtale) (11.2.1)\n",
            "Requirement already satisfied: pyparsing>=2.3.1 in /usr/local/lib/python3.11/dist-packages (from matplotlib->dtale) (3.2.3)\n",
            "Requirement already satisfied: python-dateutil>=2.7 in /usr/local/lib/python3.11/dist-packages (from matplotlib->dtale) (2.9.0.post0)\n",
            "Requirement already satisfied: pytz>=2020.1 in /usr/local/lib/python3.11/dist-packages (from pandas->dtale) (2025.2)\n",
            "Requirement already satisfied: tzdata>=2022.7 in /usr/local/lib/python3.11/dist-packages (from pandas->dtale) (2025.2)\n",
            "Requirement already satisfied: tenacity>=6.2.0 in /usr/local/lib/python3.11/dist-packages (from plotly->dtale) (9.1.2)\n",
            "Requirement already satisfied: MarkupSafe>=2.1.1 in /usr/local/lib/python3.11/dist-packages (from werkzeug->dtale) (3.0.2)\n",
            "Requirement already satisfied: brotli in /usr/local/lib/python3.11/dist-packages (from Flask-Compress->dtale) (1.1.0)\n",
            "Requirement already satisfied: zstandard in /usr/local/lib/python3.11/dist-packages (from Flask-Compress->dtale) (0.23.0)\n",
            "Requirement already satisfied: charset-normalizer<4,>=2 in /usr/local/lib/python3.11/dist-packages (from requests->dtale) (3.4.2)\n",
            "Requirement already satisfied: idna<4,>=2.5 in /usr/local/lib/python3.11/dist-packages (from requests->dtale) (3.10)\n",
            "Requirement already satisfied: urllib3<3,>=1.21.1 in /usr/local/lib/python3.11/dist-packages (from requests->dtale) (2.4.0)\n",
            "Requirement already satisfied: joblib>=1.2.0 in /usr/local/lib/python3.11/dist-packages (from scikit-learn->dtale) (1.5.1)\n",
            "Requirement already satisfied: threadpoolctl>=3.1.0 in /usr/local/lib/python3.11/dist-packages (from scikit-learn->dtale) (3.6.0)\n",
            "Requirement already satisfied: patsy>=0.5.6 in /usr/local/lib/python3.11/dist-packages (from statsmodels->dtale) (1.0.1)\n",
            "Requirement already satisfied: zipp>=3.20 in /usr/local/lib/python3.11/dist-packages (from importlib-metadata->dash<=2.18.2->dtale) (3.23.0)\n"
          ]
        }
      ],
      "source": [
        "# Instalar D-Tale\n",
        "!pip install dtale seaborn"
      ]
    },
    {
      "cell_type": "code",
      "execution_count": 12,
      "id": "ca9dbc75",
      "metadata": {
        "id": "ca9dbc75"
      },
      "outputs": [],
      "source": [
        "# Importar librerías\n",
        "import dtale\n",
        "import seaborn as sns\n",
        "import pandas as pd\n",
        "import warnings"
      ]
    },
    {
      "cell_type": "code",
      "source": [
        "warnings.filterwarnings(\"ignore\")"
      ],
      "metadata": {
        "id": "0SZxjNnCs6LU"
      },
      "id": "0SZxjNnCs6LU",
      "execution_count": 13,
      "outputs": []
    },
    {
      "cell_type": "code",
      "source": [
        "# Cargar un dataset\n",
        "try:\n",
        "    df=pd.read_csv(\"https://raw.githubusercontent.com/pablolhez72/UTN-Ciencias-Datos/main/U3/Tp2U3-SemiAutomat/Student_Habits.csv\", sep=',', low_memory=False)\n",
        "    print(\"Dataset loaded successfully!\")\n",
        "except Exception as e:\n",
        "    print(f\"Error loading dataset: {e}\")\n",
        "    print(\"Please verify the URL and ensure the file exists.\")"
      ],
      "metadata": {
        "id": "GeJLyYVxg06N",
        "outputId": "06a69ead-95b7-4aae-9085-0266673c3fd5",
        "colab": {
          "base_uri": "https://localhost:8080/"
        }
      },
      "id": "GeJLyYVxg06N",
      "execution_count": 14,
      "outputs": [
        {
          "output_type": "stream",
          "name": "stdout",
          "text": [
            "Dataset loaded successfully!\n"
          ]
        }
      ]
    },
    {
      "cell_type": "code",
      "execution_count": 15,
      "id": "cb541058",
      "metadata": {
        "colab": {
          "base_uri": "https://localhost:8080/"
        },
        "id": "cb541058",
        "outputId": "d7ac3c20-4ea0-4de8-dfb0-80422c796062"
      },
      "outputs": [
        {
          "output_type": "execute_result",
          "data": {
            "text/plain": [
              "http://9aab372b8e5f:40000/dtale/main/2"
            ]
          },
          "metadata": {},
          "execution_count": 15
        }
      ],
      "source": [
        "# Iniciar D-Tale\n",
        "dtale.show(df)"
      ]
    }
  ],
  "metadata": {
    "kernelspec": {
      "display_name": "base",
      "language": "python",
      "name": "python3"
    },
    "language_info": {
      "codemirror_mode": {
        "name": "ipython",
        "version": 3
      },
      "file_extension": ".py",
      "mimetype": "text/x-python",
      "name": "python",
      "nbconvert_exporter": "python",
      "pygments_lexer": "ipython3",
      "version": "3.12.7"
    },
    "colab": {
      "provenance": [],
      "include_colab_link": true
    }
  },
  "nbformat": 4,
  "nbformat_minor": 5
}